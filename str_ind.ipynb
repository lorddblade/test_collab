{
  "nbformat": 4,
  "nbformat_minor": 0,
  "metadata": {
    "colab": {
      "provenance": [],
      "authorship_tag": "ABX9TyPKBmGm5dp2KZOqYVZpHZdT"
    },
    "kernelspec": {
      "name": "python3",
      "display_name": "Python 3"
    },
    "language_info": {
      "name": "python"
    }
  },
  "cells": [
    {
      "cell_type": "code",
      "execution_count": 1,
      "metadata": {
        "colab": {
          "base_uri": "https://localhost:8080/"
        },
        "id": "47kvSjB13URz",
        "outputId": "ad6d16af-817c-473c-9541-4b9625dc0aa2"
      },
      "outputs": [
        {
          "output_type": "stream",
          "name": "stdout",
          "text": [
            "Waste a Moment\n",
            "New Salvation\n",
            "Staying' Alive\n",
            "Start Me Up\n"
          ]
        }
      ],
      "source": [
        "my_favorite_songs = 'Waste a Moment, Staying\\' Alive, A Sorta Fairytale, Start Me Up, New Salvation'\n",
        "\n",
        "print(my_favorite_songs[:14])\n",
        "print(my_favorite_songs[64:])\n",
        "print(my_favorite_songs[16:30])\n",
        "print(my_favorite_songs[51:62])"
      ]
    }
  ]
}